{
 "cells": [
  {
   "cell_type": "markdown",
   "metadata": {
    "colab_type": "text",
    "id": "DQNTll8bm-NT"
   },
   "source": [
    "## Retrieving the data"
   ]
  },
  {
   "cell_type": "code",
   "execution_count": null,
   "metadata": {
    "colab": {},
    "colab_type": "code",
    "id": "J4dClG5dnE65"
   },
   "outputs": [],
   "source": [
    "!pip install seaborn==0.9.0\n",
    "import math\n",
    "import pandas as pd\n",
    "import numpy as np\n",
    "from scipy import stats\n",
    "import seaborn as sns\n",
    "from sqlalchemy import create_engine"
   ]
  },
  {
   "cell_type": "code",
   "execution_count": null,
   "metadata": {
    "colab": {
     "base_uri": "https://localhost:8080/",
     "height": 71
    },
    "colab_type": "code",
    "executionInfo": {
     "elapsed": 3563,
     "status": "ok",
     "timestamp": 1568824431892,
     "user": {
      "displayName": "George Mount",
      "photoUrl": "https://lh3.googleusercontent.com/a-/AAuE7mC-X7KSpDik_bIf1BTX10WymNr7-qtntfskcqynYg=s64",
      "userId": "03471440158510234432"
     },
     "user_tz": 240
    },
    "id": "2klOsvoiUyEs",
    "outputId": "460640fe-a342-490d-a2a9-5a052c8a83a2"
   },
   "outputs": [],
   "source": [
    "postgres_user = 'dsbc_student'\n",
    "postgres_pw = '7*.8G9QH21'\n",
    "postgres_host = '142.93.121.174'\n",
    "postgres_port = '5432'\n",
    "postgres_db = 'windsor_home_prices'\n",
    "\n",
    "# use the credentials to start a connection\n",
    "engine = create_engine('postgresql://{}:{}@{}:{}/{}'.format(\n",
    "    postgres_user, postgres_pw, postgres_host, postgres_port, postgres_db))\n",
    "\n",
    "home_prices = pd.read_sql_table('windsor_home_prices', con=engine)"
   ]
  },
  {
   "cell_type": "markdown",
   "metadata": {
    "colab_type": "text",
    "id": "HnfkrrfuVffO"
   },
   "source": [
    "## Exploratory data analysis"
   ]
  },
  {
   "cell_type": "code",
   "execution_count": null,
   "metadata": {
    "colab": {
     "base_uri": "https://localhost:8080/",
     "height": 308
    },
    "colab_type": "code",
    "executionInfo": {
     "elapsed": 3554,
     "status": "ok",
     "timestamp": 1568824431894,
     "user": {
      "displayName": "George Mount",
      "photoUrl": "https://lh3.googleusercontent.com/a-/AAuE7mC-X7KSpDik_bIf1BTX10WymNr7-qtntfskcqynYg=s64",
      "userId": "03471440158510234432"
     },
     "user_tz": 240
    },
    "id": "E8oqLhkQM_B9",
    "outputId": "95e6fe87-1bd4-47ce-dd29-0fbd8e1f5d35"
   },
   "outputs": [],
   "source": [
    "home_prices.info()"
   ]
  },
  {
   "cell_type": "code",
   "execution_count": null,
   "metadata": {
    "colab": {
     "base_uri": "https://localhost:8080/",
     "height": 201
    },
    "colab_type": "code",
    "executionInfo": {
     "elapsed": 3549,
     "status": "ok",
     "timestamp": 1568824431895,
     "user": {
      "displayName": "George Mount",
      "photoUrl": "https://lh3.googleusercontent.com/a-/AAuE7mC-X7KSpDik_bIf1BTX10WymNr7-qtntfskcqynYg=s64",
      "userId": "03471440158510234432"
     },
     "user_tz": 240
    },
    "id": "qNf8XsMXO1Cs",
    "outputId": "083f6306-7505-4977-8b6d-4a91fdbb4466"
   },
   "outputs": [],
   "source": [
    "home_prices.head()"
   ]
  },
  {
   "cell_type": "markdown",
   "metadata": {
    "colab_type": "text",
    "id": "m-9JqixanPY2"
   },
   "source": [
    "We will test whether there is a significant difference in `price` for records where `fullbase` is `yes` versus `no`. Per the [documentation](https://rdrr.io/cran/Ecdat/man/Housing.html), this variable indicates whether the home has a full, finished basement.\n",
    "\n",
    "\n",
    "Let's split our data into two DataFrames for ease of analysis."
   ]
  },
  {
   "cell_type": "code",
   "execution_count": null,
   "metadata": {
    "colab": {
     "base_uri": "https://localhost:8080/",
     "height": 600
    },
    "colab_type": "code",
    "executionInfo": {
     "elapsed": 3546,
     "status": "ok",
     "timestamp": 1568824431897,
     "user": {
      "displayName": "George Mount",
      "photoUrl": "https://lh3.googleusercontent.com/a-/AAuE7mC-X7KSpDik_bIf1BTX10WymNr7-qtntfskcqynYg=s64",
      "userId": "03471440158510234432"
     },
     "user_tz": 240
    },
    "id": "g6Bxjji6nNnJ",
    "outputId": "6fcc04a2-e9ae-4b65-897d-06bf1a4b09f3"
   },
   "outputs": [],
   "source": [
    "# Split up our dataset\n",
    "basement_yes = home_prices[(home_prices['fullbase'] == \"yes\")]\n",
    "basement_yes.info()\n",
    "\n",
    "basement_no = home_prices[(home_prices['fullbase'] == \"no\")]\n",
    "basement_no.info()"
   ]
  },
  {
   "cell_type": "markdown",
   "metadata": {
    "colab_type": "text",
    "id": "pW_aDRKTnVbc"
   },
   "source": [
    "Let's get the sense of how these figures look."
   ]
  },
  {
   "cell_type": "code",
   "execution_count": null,
   "metadata": {
    "colab": {
     "base_uri": "https://localhost:8080/",
     "height": 300
    },
    "colab_type": "code",
    "executionInfo": {
     "elapsed": 4028,
     "status": "ok",
     "timestamp": 1568824432384,
     "user": {
      "displayName": "George Mount",
      "photoUrl": "https://lh3.googleusercontent.com/a-/AAuE7mC-X7KSpDik_bIf1BTX10WymNr7-qtntfskcqynYg=s64",
      "userId": "03471440158510234432"
     },
     "user_tz": 240
    },
    "id": "-iFWXIMbnYe3",
    "outputId": "2b279012-4357-44c2-a94d-dc25c612d75e"
   },
   "outputs": [],
   "source": [
    "sns.distplot(basement_yes['price'])\n",
    "sns.distplot(basement_no['price'])"
   ]
  },
  {
   "cell_type": "markdown",
   "metadata": {
    "colab_type": "text",
    "id": "j3RcOdApIEGi"
   },
   "source": [
    "It appears that these are normally distributed. We can examine the descriptive statistics as well to learn more about the distributions."
   ]
  },
  {
   "cell_type": "code",
   "execution_count": null,
   "metadata": {
    "colab": {
     "base_uri": "https://localhost:8080/",
     "height": 51
    },
    "colab_type": "code",
    "executionInfo": {
     "elapsed": 4024,
     "status": "ok",
     "timestamp": 1568824432385,
     "user": {
      "displayName": "George Mount",
      "photoUrl": "https://lh3.googleusercontent.com/a-/AAuE7mC-X7KSpDik_bIf1BTX10WymNr7-qtntfskcqynYg=s64",
      "userId": "03471440158510234432"
     },
     "user_tz": 240
    },
    "id": "zUWH1ihaoQ4l",
    "outputId": "204d929d-d943-4df8-c869-181942356818"
   },
   "outputs": [],
   "source": [
    "print(stats.describe(basement_yes['price']))\n",
    "print(stats.describe(basement_no['price']))"
   ]
  },
  {
   "cell_type": "markdown",
   "metadata": {
    "colab_type": "text",
    "id": "0qgSQYbVIOTj"
   },
   "source": [
    "## Hypothesis testing\n",
    "\n",
    "To state our hypotheses formally:\n",
    "\n",
    "Ho: There is no difference in the average sale price between homes with and without a full basement.  \n",
    "Ha: There is a difference in the average sale price between homes with and without a full basement."
   ]
  },
  {
   "cell_type": "code",
   "execution_count": null,
   "metadata": {
    "colab": {
     "base_uri": "https://localhost:8080/",
     "height": 34
    },
    "colab_type": "code",
    "executionInfo": {
     "elapsed": 4018,
     "status": "ok",
     "timestamp": 1568824432386,
     "user": {
      "displayName": "George Mount",
      "photoUrl": "https://lh3.googleusercontent.com/a-/AAuE7mC-X7KSpDik_bIf1BTX10WymNr7-qtntfskcqynYg=s64",
      "userId": "03471440158510234432"
     },
     "user_tz": 240
    },
    "id": "fGOXdgqSIabr",
    "outputId": "ef9b4d8f-d183-495a-b0be-a3ad0214cb0d"
   },
   "outputs": [],
   "source": [
    "stats.ttest_ind(basement_yes['price'],basement_no['price'])"
   ]
  },
  {
   "cell_type": "markdown",
   "metadata": {
    "colab_type": "text",
    "id": "1zX-GbQoIhQk"
   },
   "source": [
    "## How do we interpret these results?\n",
    "\n",
    "## What can we infer about the populations?"
   ]
  }
 ],
 "metadata": {
  "colab": {
   "collapsed_sections": [],
   "name": "dai_interview_notebook.ipynb",
   "provenance": []
  },
  "kernelspec": {
   "display_name": "Python 3",
   "language": "python",
   "name": "python3"
  },
  "language_info": {
   "codemirror_mode": {
    "name": "ipython",
    "version": 3
   },
   "file_extension": ".py",
   "mimetype": "text/x-python",
   "name": "python",
   "nbconvert_exporter": "python",
   "pygments_lexer": "ipython3",
   "version": "3.6.2"
  }
 },
 "nbformat": 4,
 "nbformat_minor": 1
}
